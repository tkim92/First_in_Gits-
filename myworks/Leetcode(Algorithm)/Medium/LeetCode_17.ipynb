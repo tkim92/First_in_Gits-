{
 "cells": [
  {
   "cell_type": "markdown",
   "metadata": {},
   "source": [
    "LeetCode question 17 - Letter combination of phone number\n",
    "Difficulty level : Medium"
   ]
  },
  {
   "cell_type": "markdown",
   "metadata": {},
   "source": [
    "Given a string containing digits from 2-9 inclusive, \n",
    "return all possible letter combinations that the number could represent.\n",
    "\n",
    "A mapping of digit to letters (just like on the telephone buttons) is given below. \n",
    "Note that 1 does not map to any letters.\n",
    "\n"
   ]
  },
  {
   "cell_type": "markdown",
   "metadata": {},
   "source": [
    "Example,\n",
    "\n",
    "Input: \"23\"\n",
    "Output: [\"ad\", \"ae\", \"af\", \"bd\", \"be\", \"bf\", \"cd\", \"ce\", \"cf\"]."
   ]
  },
  {
   "cell_type": "markdown",
   "metadata": {},
   "source": [
    "2: abc, 3: def, 4: ghi, 5:jkl, 6: mno, 7: pqrs, 8: tuv, 9: wxyz"
   ]
  },
  {
   "cell_type": "code",
   "execution_count": 19,
   "metadata": {},
   "outputs": [],
   "source": [
    "def letterCombinations(digits):\n",
    "    \n",
    "    myphone = [0,0,['a','b','c'],['d','e','f'],['g','h','i'],['j','k','l'],['m','n','o'],['p','q','r','s'],['t','u','v'],['w','x','y','z']]\n",
    "    myletters = []\n",
    "    updating = []\n",
    "    \n",
    "    \n",
    "    if len(digits) == 0:\n",
    "        return []\n",
    "    \n",
    "    elif len(digits) == 1:\n",
    "        myletters = myphone[int(digits)]\n",
    "        return myletters\n",
    "    \n",
    "    else:\n",
    "        for i in  letterCombinations(digits[:-1]):\n",
    "            for j in myphone[int(digits[-1])]:\n",
    "                updating.append(i+j)\n",
    "        \n",
    "            myletters = updating\n",
    "            \n",
    "    return myletters\n",
    "            \n",
    "    \n",
    "    \n",
    "    \n",
    "    "
   ]
  },
  {
   "cell_type": "code",
   "execution_count": 23,
   "metadata": {},
   "outputs": [
    {
     "data": {
      "text/plain": [
       "['agd',\n",
       " 'age',\n",
       " 'agf',\n",
       " 'ahd',\n",
       " 'ahe',\n",
       " 'ahf',\n",
       " 'aid',\n",
       " 'aie',\n",
       " 'aif',\n",
       " 'bgd',\n",
       " 'bge',\n",
       " 'bgf',\n",
       " 'bhd',\n",
       " 'bhe',\n",
       " 'bhf',\n",
       " 'bid',\n",
       " 'bie',\n",
       " 'bif',\n",
       " 'cgd',\n",
       " 'cge',\n",
       " 'cgf',\n",
       " 'chd',\n",
       " 'che',\n",
       " 'chf',\n",
       " 'cid',\n",
       " 'cie',\n",
       " 'cif']"
      ]
     },
     "execution_count": 23,
     "metadata": {},
     "output_type": "execute_result"
    }
   ],
   "source": [
    "letterCombinations(\"243\")"
   ]
  }
 ],
 "metadata": {
  "kernelspec": {
   "display_name": "Python 3",
   "language": "python",
   "name": "python3"
  },
  "language_info": {
   "codemirror_mode": {
    "name": "ipython",
    "version": 3
   },
   "file_extension": ".py",
   "mimetype": "text/x-python",
   "name": "python",
   "nbconvert_exporter": "python",
   "pygments_lexer": "ipython3",
   "version": "3.7.3"
  }
 },
 "nbformat": 4,
 "nbformat_minor": 2
}
