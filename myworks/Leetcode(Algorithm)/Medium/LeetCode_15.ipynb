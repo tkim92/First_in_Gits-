{
 "cells": [
  {
   "cell_type": "markdown",
   "metadata": {},
   "source": [
    "Leetcode Question 15. \n",
    "3 Sum\n",
    "Difficulty Level : Medium"
   ]
  },
  {
   "cell_type": "markdown",
   "metadata": {},
   "source": [
    "Given an array nums of n integers, are there elements a, b, c in nums such that a + b + c = 0? Find all unique triplets in the array which gives the sum of zero.\n",
    "\n",
    "Note:\n",
    "\n",
    "The solution set must not contain duplicate triplets.\n"
   ]
  },
  {
   "cell_type": "markdown",
   "metadata": {},
   "source": [
    "Example:\n",
    "\n",
    "Given array nums = [-1, 0, 1, 2, -1, -4],\n",
    "\n",
    "A solution set is:\n",
    "[\n",
    "  [-1, 0, 1],\n",
    "  [-1, -1, 2]\n",
    "]"
   ]
  },
  {
   "cell_type": "code",
   "execution_count": 97,
   "metadata": {},
   "outputs": [],
   "source": [
    "def threeSum(nums):\n",
    "    nums.sort()\n",
    "    \n",
    "    L = []\n",
    "    R = []\n",
    "    solution = []\n",
    "    \n",
    "    if nums == [0] * len(nums) and len(nums) >= 3:\n",
    "            return [[0,0,0]]\n",
    "        \n",
    "    zeros  = 0\n",
    "    for i in nums:\n",
    "        if i == 0:\n",
    "            zeros += 1\n",
    "    \n",
    "    if zeros >= 3:\n",
    "        solution.append([0,0,0])\n",
    "        \n",
    "        \n",
    "    for i in nums:\n",
    "        if i <= 0:\n",
    "            L.append(i)\n",
    "        else:\n",
    "            R.append(i)\n",
    "    \n",
    "    for i in L:\n",
    "        j = 0\n",
    "        k = len(R) - 1\n",
    "        while j < k:\n",
    "            if i + R[j] + R[k] < 0:\n",
    "                j += 1\n",
    "            elif i + R[j] + R[k] > 0:\n",
    "                k -= 1\n",
    "            else:\n",
    "                if [i,R[j],R[k]] not in solution:\n",
    "                    solution.append([i,R[j],R[k]])\n",
    "                k -= 1\n",
    "                j += 1\n",
    "    for i in R:\n",
    "        j = 0\n",
    "        k = len(L) - 1\n",
    "        \n",
    "        while j < k:\n",
    "            if i + L[j] + L[k] < 0:\n",
    "                j += 1\n",
    "            elif i + L[j] + L[k] > 0:\n",
    "                k -= 1\n",
    "            else:\n",
    "                if [L[j],L[k],i] not in solution:\n",
    "                    solution.append([L[j],L[k],i])\n",
    "                k -= 1\n",
    "                j += 1\n",
    "                \n",
    "    return solution\n",
    "        "
   ]
  },
  {
   "cell_type": "code",
   "execution_count": 98,
   "metadata": {},
   "outputs": [
    {
     "name": "stdout",
     "output_type": "stream",
     "text": [
      "[[-4, 1, 3], [-4, 2, 2], [-2, 0, 2], [-4, 0, 4], [-2, -2, 4], [-4, -2, 6]]\n",
      "[[0, 0, 0], [-5, 1, 4], [-4, 1, 3], [-2, 1, 1], [-4, 0, 4], [-2, -2, 4]]\n"
     ]
    }
   ],
   "source": [
    "# print(threeSum([-2,0,0,2,2]))\n",
    "# print(threeSum([-1, 0, 1, 2, -1, -4]))\n",
    "# print(threeSum([-7,-3, 6, 0, 3, 7]))\n",
    "# print(threeSum([-1, 0, 3]))\n",
    "# print(threeSum([-1, 0, 1, 2, -1, 5, -3]))\n",
    "print(threeSum([-4,-2,-2,-2,0,1,2,2,2,3,3,4,4,6,6]))\n",
    "print(threeSum([-4,-2,1,-5,-4,-4,4,-2,0,4,0,-2,3,1,-5,0]))"
   ]
  },
  {
   "cell_type": "markdown",
   "metadata": {},
   "source": [
    "My code above solves the cases, but encounters Time Limit Error\n",
    "Also, my code is not the simpleast/prettiest. \n",
    "\n",
    "Now look at the ideal answer.\n",
    "\n"
   ]
  },
  {
   "cell_type": "code",
   "execution_count": 107,
   "metadata": {},
   "outputs": [],
   "source": [
    "def threeSum(nums):\n",
    "        \"\"\"\n",
    "        :type nums: List[int]\n",
    "        :rtype: List[List[int]]\n",
    "        \"\"\"\n",
    "        nums.sort()\n",
    "        N, result = len(nums), []\n",
    "        \n",
    "        for i in range(N):\n",
    "            if i > 0 and nums[i] == nums[i-1]:\n",
    "                continue\n",
    "            target = nums[i]*-1\n",
    "            L,R = i+1, N-1\n",
    "            \n",
    "            print('Target = ', target)\n",
    "            print(\"L = \", L)\n",
    "            print(\"R = \", R)\n",
    "            \n",
    "            while L < R:\n",
    "                if nums[L]+nums[R] == target:\n",
    "                    result.append([nums[i], nums[L], nums[R]])\n",
    "                    L = L + 1\n",
    "                    while L < R and nums[L] == nums[R-1]:\n",
    "                        L = L + 1\n",
    "                elif nums[L] + nums[R] < target:\n",
    "                    L = L + 1\n",
    "                else:\n",
    "                    R = R - 1\n",
    "        return result"
   ]
  },
  {
   "cell_type": "code",
   "execution_count": 108,
   "metadata": {},
   "outputs": [
    {
     "name": "stdout",
     "output_type": "stream",
     "text": [
      "Target =  5\n",
      "L =  1\n",
      "R =  15\n",
      "Target =  4\n",
      "L =  3\n",
      "R =  15\n",
      "Target =  2\n",
      "L =  6\n",
      "R =  15\n",
      "Target =  0\n",
      "L =  9\n",
      "R =  15\n",
      "Target =  -1\n",
      "L =  12\n",
      "R =  15\n",
      "Target =  -3\n",
      "L =  14\n",
      "R =  15\n",
      "Target =  -4\n",
      "L =  15\n",
      "R =  15\n",
      "[[-5, 1, 4], [-5, 1, 4], [-4, 0, 4], [-4, 0, 4], [-4, 0, 4], [-4, 1, 3], [-2, -2, 4], [-2, -2, 4], [-2, 1, 1], [0, 0, 0]]\n"
     ]
    }
   ],
   "source": [
    "print(threeSum([-4,-2,1,-5,-4,-4,4,-2,0,4,0,-2,3,1,-5,0]))"
   ]
  },
  {
   "cell_type": "code",
   "execution_count": null,
   "metadata": {},
   "outputs": [],
   "source": []
  }
 ],
 "metadata": {
  "kernelspec": {
   "display_name": "Python 3",
   "language": "python",
   "name": "python3"
  },
  "language_info": {
   "codemirror_mode": {
    "name": "ipython",
    "version": 3
   },
   "file_extension": ".py",
   "mimetype": "text/x-python",
   "name": "python",
   "nbconvert_exporter": "python",
   "pygments_lexer": "ipython3",
   "version": "3.7.3"
  }
 },
 "nbformat": 4,
 "nbformat_minor": 2
}
