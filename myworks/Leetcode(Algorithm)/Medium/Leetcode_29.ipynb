{
 "cells": [
  {
   "cell_type": "markdown",
   "metadata": {},
   "source": [
    "Leetcode Question 29. \n",
    "Difficulty Level: Medium\n",
    "\n",
    "Given two integers dividend and divisor, divide two integers without using multiplication, division and mod operator.\n",
    "\n",
    "Return the quotient after dividing dividend by divisor.\n",
    "\n",
    "The integer division should truncate toward zero.\n",
    "\n",
    "Example 1:\n",
    "\n",
    "Input: dividend = 10, divisor = 3\n",
    "Output: 3\n",
    "\n",
    "Example 2:\n",
    "\n",
    "Input: dividend = 7, divisor = -3\n",
    "Output: -2\n",
    "Note:\n",
    "\n",
    "Both dividend and divisor will be 32-bit signed integers.\n",
    "The divisor will never be 0.\n",
    "Assume we are dealing with an environment which could only store integers within the 32-bit signed integer range: [−231,  231 − 1]. For the purpose of this problem, assume that your function returns 231 − 1 when the division result overflows.\n",
    "\n",
    "\n",
    "input: integer,integer\n",
    "output: integer"
   ]
  },
  {
   "cell_type": "code",
   "execution_count": null,
   "metadata": {},
   "outputs": [],
   "source": [
    "The Key is,\n",
    "\n",
    "No multiplication operator\n",
    "No Division operator\n",
    "No Mod operator"
   ]
  },
  {
   "cell_type": "code",
   "execution_count": 63,
   "metadata": {},
   "outputs": [],
   "source": [
    "def divide(dividend, divisor):\n",
    "    \n",
    "    \n",
    "    \n",
    "    sign = 1\n",
    "    \n",
    "    if dividend < 0 and divisor > 0:\n",
    "        sign = -1\n",
    "    elif dividend > 0 and divisor < 0:\n",
    "        sign = -1\n",
    "    \n",
    "    print(sign)\n",
    "\n",
    "            \n",
    "    if divisor == 1 or divisor == -1:\n",
    "        if dividend == 1:\n",
    "            return divisor\n",
    "        elif dividend == -1:\n",
    "            return 1 * sign\n",
    "        else:\n",
    "            return dividend * divisor\n",
    "            \n",
    "    \n",
    "    \n",
    "    \n",
    "    dividend = abs(dividend)\n",
    "    divisor = abs(divisor)\n",
    "    answer = 0\n",
    "    \n",
    "    print(dividend)\n",
    "    print(divisor)\n",
    "    \n",
    "    while True:\n",
    "        dividend -= divisor\n",
    "        if dividend < 0:\n",
    "            break\n",
    "        else:\n",
    "            \n",
    "            answer += 1\n",
    "    \n",
    "    return answer*sign\n",
    "    \n",
    "        "
   ]
  },
  {
   "cell_type": "code",
   "execution_count": 64,
   "metadata": {},
   "outputs": [
    {
     "name": "stdout",
     "output_type": "stream",
     "text": [
      "1\n",
      "5001\n"
     ]
    }
   ],
   "source": [
    "print(divide(-5001,-1))"
   ]
  },
  {
   "cell_type": "code",
   "execution_count": 13,
   "metadata": {},
   "outputs": [
    {
     "data": {
      "text/plain": [
       "-3"
      ]
     },
     "execution_count": 13,
     "metadata": {},
     "output_type": "execute_result"
    }
   ],
   "source": [
    "7//-3"
   ]
  },
  {
   "cell_type": "code",
   "execution_count": null,
   "metadata": {},
   "outputs": [],
   "source": []
  }
 ],
 "metadata": {
  "kernelspec": {
   "display_name": "Python 3",
   "language": "python",
   "name": "python3"
  },
  "language_info": {
   "codemirror_mode": {
    "name": "ipython",
    "version": 3
   },
   "file_extension": ".py",
   "mimetype": "text/x-python",
   "name": "python",
   "nbconvert_exporter": "python",
   "pygments_lexer": "ipython3",
   "version": "3.7.3"
  }
 },
 "nbformat": 4,
 "nbformat_minor": 2
}
