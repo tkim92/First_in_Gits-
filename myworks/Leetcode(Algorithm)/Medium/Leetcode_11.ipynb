{
 "cells": [
  {
   "cell_type": "markdown",
   "metadata": {},
   "source": [
    "Leetcode Q11. "
   ]
  },
  {
   "cell_type": "markdown",
   "metadata": {},
   "source": [
    "Difficulty: Medium"
   ]
  },
  {
   "cell_type": "markdown",
   "metadata": {},
   "source": [
    "Given n non-negative integers a1, a2, ..., an , where each represents a point at coordinate (i, ai).\n",
    "n vertical lines are drawn such that the two endpoints of line i is at (i, ai) and (i, 0).\n",
    "Find two lines, which together with x-axis forms a container, such that the container contains the most water.\n",
    "\n",
    "Note: You may not slant the container and n is at least 2."
   ]
  },
  {
   "cell_type": "code",
   "execution_count": 45,
   "metadata": {},
   "outputs": [],
   "source": [
    "def maxArea(height):\n",
    "    \n",
    "    i = 0\n",
    "    j = len(height) - 1\n",
    "    direction = 'Right To Left'\n",
    "        \n",
    "    maxarea = 0\n",
    "    \n",
    "    \n",
    "    for k in range(len(height)):\n",
    "        if height[i] > height[j]:\n",
    "            direction = 'Right To Left'\n",
    "            myheight = height[j]\n",
    "        else:\n",
    "            direction = 'Left To Right'\n",
    "            myheight = height[i]\n",
    "   \n",
    "        myarea = (j-i) * myheight\n",
    "    \n",
    "        if myarea >= maxarea:\n",
    "            maxarea = myarea\n",
    "        \n",
    "        if direction == \"Right To Left\":\n",
    "            j -= 1\n",
    "        else:\n",
    "            i += 1\n",
    "            \n",
    "    return maxarea"
   ]
  },
  {
   "cell_type": "code",
   "execution_count": 46,
   "metadata": {},
   "outputs": [
    {
     "data": {
      "text/plain": [
       "49"
      ]
     },
     "execution_count": 46,
     "metadata": {},
     "output_type": "execute_result"
    }
   ],
   "source": [
    "maxArea([1,8,6,2,5,4,8,3,7])"
   ]
  },
  {
   "cell_type": "code",
   "execution_count": 47,
   "metadata": {},
   "outputs": [
    {
     "data": {
      "text/plain": [
       "1"
      ]
     },
     "execution_count": 47,
     "metadata": {},
     "output_type": "execute_result"
    }
   ],
   "source": [
    "maxArea([1,1])"
   ]
  },
  {
   "cell_type": "code",
   "execution_count": 48,
   "metadata": {},
   "outputs": [
    {
     "data": {
      "text/plain": [
       "0"
      ]
     },
     "execution_count": 48,
     "metadata": {},
     "output_type": "execute_result"
    }
   ],
   "source": [
    "maxArea([0,2])"
   ]
  }
 ],
 "metadata": {
  "kernelspec": {
   "display_name": "Python 3",
   "language": "python",
   "name": "python3"
  },
  "language_info": {
   "codemirror_mode": {
    "name": "ipython",
    "version": 3
   },
   "file_extension": ".py",
   "mimetype": "text/x-python",
   "name": "python",
   "nbconvert_exporter": "python",
   "pygments_lexer": "ipython3",
   "version": "3.7.1"
  }
 },
 "nbformat": 4,
 "nbformat_minor": 2
}
