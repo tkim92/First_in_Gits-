{
 "cells": [
  {
   "cell_type": "markdown",
   "metadata": {},
   "source": [
    "LeetCode Question 31. Next Permutation\n",
    "\n",
    "Difficulty Level: Medium"
   ]
  },
  {
   "cell_type": "markdown",
   "metadata": {},
   "source": [
    "Implement next permutation, which rearranges numbers into the lexicographically next greater permutation of numbers.\n",
    "\n",
    "If such arrangement is not possible, it must rearrange it as the lowest possible order (ie, sorted in ascending order).\n",
    "\n",
    "The replacement must be in-place and use only constant extra memory.\n",
    "\n",
    "Here are some examples. Inputs are in the left-hand column and its corresponding outputs are in the right-hand column.\n",
    "\n",
    "1,2,3 → 1,3,2\n",
    "\n",
    "3,2,1 → 1,2,3\n",
    "\n",
    "1,1,5 → 1,5,1\n",
    "\n",
    "input: List(int)\n",
    "\n",
    "output: None\n",
    "\n",
    "I just need to modify existed list in-place instead of creating new list"
   ]
  },
  {
   "cell_type": "code",
   "execution_count": 101,
   "metadata": {},
   "outputs": [],
   "source": [
    "def nextPermutation(nums):\n",
    "    i = j = len(nums)-1\n",
    "    while i > 0 and nums[i-1] >= nums[i]:\n",
    "        i -= 1\n",
    "    if i == 0:   # nums are in descending order\n",
    "        nums.reverse()\n",
    "        return\n",
    "    k = i - 1 # find the last \"ascending\" position\n",
    "    \n",
    "   \n",
    "    while nums[j] <= nums[k]:\n",
    "        j -= 1\n",
    "    nums[k], nums[j] = nums[j], nums[k]  \n",
    "    l, r = k+1, len(nums)-1  # reverse the second part\n",
    "    while l < r:\n",
    "        nums[l], nums[r] = nums[r], nums[l]\n",
    "        l +=1 ; r -= 1\n",
    "    \n",
    "    return nums"
   ]
  },
  {
   "cell_type": "code",
   "execution_count": 102,
   "metadata": {},
   "outputs": [
    {
     "name": "stdout",
     "output_type": "stream",
     "text": [
      "3\n",
      "[1, 5, 8, 5, 1, 3, 4, 6, 7]\n",
      "0\n",
      "[3, 1, 2, 4]\n",
      "1\n",
      "[1, 3, 2]\n"
     ]
    }
   ],
   "source": [
    "print(nextPermutation([1,5,8,4,7,6,5,3,1]))\n",
    "print(nextPermutation([2,4,3,1]))\n",
    "print(nextPermutation([1,2,3]))"
   ]
  },
  {
   "cell_type": "markdown",
   "metadata": {},
   "source": [
    "Above is the answer done by other.\n",
    "\n",
    "Very Clear to understand.\n",
    "\n",
    "Below is what I attempted. \n",
    "\n",
    "And I was not able to solve all the cases. \n",
    "\n",
    "My algorithm was correct, but it was not able to told in codes. \n",
    "\n",
    "Key takeaway is at the bottom. \n",
    "\n"
   ]
  },
  {
   "cell_type": "code",
   "execution_count": 91,
   "metadata": {},
   "outputs": [],
   "source": [
    "def nextPermutation(nums):\n",
    "        \"\"\"\n",
    "        Do not return anything, modify nums in-place instead.\n",
    "        \"\"\"\n",
    "        i = len(nums) - 1\n",
    "        \n",
    "        while i > 0:\n",
    "            if nums[i] > nums[i-1]:\n",
    "#                 swap point 1\n",
    "                print(\"i is: \",i)\n",
    "                SP1 = i -1\n",
    "                print(\"SP1 is: \", SP1)\n",
    "                print(\"SP1 value is: \", nums[SP1])\n",
    "                \n",
    "#         now another look backwards (-->) to find what's smaller than nums[SP1]\n",
    "                j = i\n",
    "                while j <= len(nums) -1:\n",
    "                    if nums[SP1] > nums[j]:\n",
    "                        SP2 = j-1\n",
    "                        print(\"SP2 is: \", SP2)\n",
    "                        print(\"SP2 value is: \", nums[SP2])\n",
    "                        \n",
    "                        nums[SP1],nums[SP2] = nums[SP2],nums[SP1] \n",
    "                    \n",
    "                        for k in range(len(nums[i:])//2):\n",
    "                            nums[i+k],nums[-1-k] = nums[-1-k],nums[i+k]\n",
    "\n",
    "                        break\n",
    "                    j += 1\n",
    "                break\n",
    "            i -= 1\n",
    "        \n",
    "        return nums\n",
    "                \n",
    "        \n",
    "                \n",
    "            \n",
    "            \n",
    "        \n",
    "        \n",
    "        "
   ]
  },
  {
   "cell_type": "code",
   "execution_count": 92,
   "metadata": {},
   "outputs": [
    {
     "name": "stdout",
     "output_type": "stream",
     "text": [
      "i is:  2\n",
      "SP1 is:  1\n",
      "SP1 value is:  2\n",
      "[1, 2, 3]\n"
     ]
    }
   ],
   "source": [
    "# print(nextPermutation([1,5,8,4,7,6,5,3,1]))\n",
    "# print(nextPermutation([2,4,3,1]))\n",
    "print(nextPermutation([1,2,3]))"
   ]
  },
  {
   "cell_type": "markdown",
   "metadata": {},
   "source": [
    "Algorithm I used:\n",
    "    \n",
    "1. From Backwards ( <-- ), Find the index that it's element is decreasing,  Let the index = point A\n",
    "\n",
    "2. From Backwards again ( --> ), Find the index that it's element is equal/smaller than [point A]. Let the index = Point B\n",
    "\n",
    "3. Then, the [Point B - 1] is where it's element is right bigger than [point A]. (closest bigger value)\n",
    "\n",
    "4. Swap [Point A] <--> [Point B - 1]\n",
    "\n",
    "5. Then, take reverse of [Poiont A + 1:]\n",
    "\n"
   ]
  },
  {
   "cell_type": "markdown",
   "metadata": {},
   "source": [
    "important takeaway:\n",
    "\n",
    "if I do slicing... a[3:] ...\n",
    "\n",
    "\n",
    "it is creating \"another\" object that stores a[3:]\n",
    "\n",
    "That is, whatever I do to a[3:], there will be NO affect on original list, a. \n",
    "\n"
   ]
  }
 ],
 "metadata": {
  "kernelspec": {
   "display_name": "Python 3",
   "language": "python",
   "name": "python3"
  },
  "language_info": {
   "codemirror_mode": {
    "name": "ipython",
    "version": 3
   },
   "file_extension": ".py",
   "mimetype": "text/x-python",
   "name": "python",
   "nbconvert_exporter": "python",
   "pygments_lexer": "ipython3",
   "version": "3.7.1"
  }
 },
 "nbformat": 4,
 "nbformat_minor": 2
}
