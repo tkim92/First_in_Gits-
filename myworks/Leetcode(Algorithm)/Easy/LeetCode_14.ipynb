{
 "cells": [
  {
   "cell_type": "markdown",
   "metadata": {},
   "source": [
    "Leetcode Question 14\n",
    "Difficulty Level: Easy"
   ]
  },
  {
   "cell_type": "markdown",
   "metadata": {},
   "source": [
    "Write a function to find the longest common prefix string amongst an array of strings.\n",
    "\n",
    "If there is no common prefix, return an empty string \"\"."
   ]
  },
  {
   "cell_type": "markdown",
   "metadata": {},
   "source": [
    "Example 1.\n",
    "Input: [\"flower\",\"flow\",\"flight\"]\n",
    "Output: \"fl\""
   ]
  },
  {
   "cell_type": "markdown",
   "metadata": {},
   "source": [
    "Example 2.\n",
    "Input: [\"dog\",\"racecar\",\"car\"]\n",
    "Output: \"\"\n",
    "Explanation: There is no common prefix among the input strings."
   ]
  },
  {
   "cell_type": "markdown",
   "metadata": {},
   "source": [
    "Below is my answer"
   ]
  },
  {
   "cell_type": "code",
   "execution_count": 49,
   "metadata": {},
   "outputs": [],
   "source": [
    "def longestCommonPrefix(strs):\n",
    "    \n",
    "    prefix = \"\"\n",
    "\n",
    "    if len(strs) ==  0:\n",
    "        return prefix\n",
    "    elif len(strs[0]) == \"\":\n",
    "        return prefix\n",
    "    else:\n",
    "        minimum_length = min(strs,key = len)\n",
    "        i = 0\n",
    "        while i < len(minimum_length):\n",
    "            IsPrefix = strs[0][i]\n",
    "            for j in strs:\n",
    "                if j[i] not in IsPrefix:\n",
    "                    return prefix\n",
    "            prefix += IsPrefix\n",
    "            i += 1\n",
    "        return prefix"
   ]
  },
  {
   "cell_type": "code",
   "execution_count": 52,
   "metadata": {},
   "outputs": [
    {
     "name": "stdout",
     "output_type": "stream",
     "text": [
      "fl\n",
      "\n",
      "aa\n",
      "\n",
      "\n",
      "a\n"
     ]
    }
   ],
   "source": [
    "print(longestCommonPrefix([\"flower\",\"flow\",\"flight\"]))\n",
    "print(longestCommonPrefix([\"dog\",\"racecar\",\"car\"]))\n",
    "print(longestCommonPrefix([\"aa\",\"aa\"]))\n",
    "print(longestCommonPrefix([]))\n",
    "print(longestCommonPrefix([\"\"]))\n",
    "print(longestCommonPrefix([\"a\"]))\n"
   ]
  },
  {
   "cell_type": "markdown",
   "metadata": {},
   "source": [
    "Smart answer with some learning points. \n",
    "\n",
    "- zip(*strs) \n",
    "- set\n",
    "- set and zip combination\n",
    "\n",
    "\n",
    "zip : The zip() function take iterables (can be zero or more), \n",
    "    makes iterator that aggregates elements based on the iterables passed, \n",
    "    and returns an iterator of tuples\n",
    "    \n",
    "set: The set() constructor constructs a Python set from the given iterable and returns it.\n",
    "    \n",
    "    \n",
    "See below to understand how they work\n"
   ]
  },
  {
   "cell_type": "code",
   "execution_count": 62,
   "metadata": {},
   "outputs": [],
   "source": [
    "def longestCommonPrefix(strs):\n",
    "        \n",
    "        print(zip(*strs))\n",
    "        s = ''\n",
    "        for i in zip(*strs):\n",
    "            \n",
    "            print(i)\n",
    "            if len(set(i)) != 1:\n",
    "                return s\n",
    "            else:\n",
    "                s += i[0]\n",
    "            print(s)\n",
    "        return s"
   ]
  },
  {
   "cell_type": "code",
   "execution_count": 63,
   "metadata": {},
   "outputs": [
    {
     "name": "stdout",
     "output_type": "stream",
     "text": [
      "<zip object at 0x1067d7d08>\n",
      "('f', 'f', 'f')\n",
      "f\n",
      "('l', 'l', 'l')\n",
      "fl\n",
      "('o', 'o', 'i')\n",
      "fl\n"
     ]
    }
   ],
   "source": [
    "print(longestCommonPrefix([\"flower\",\"flow\",\"flight\"]))"
   ]
  },
  {
   "cell_type": "code",
   "execution_count": 68,
   "metadata": {},
   "outputs": [
    {
     "name": "stdout",
     "output_type": "stream",
     "text": [
      "('flower',)\n",
      "('flow',)\n",
      "('flight',)\n",
      "set()\n"
     ]
    }
   ],
   "source": [
    "a = zip([\"flower\",\"flow\",\"flight\"])\n",
    "\n",
    "for i in a:\n",
    "    print(i)\n",
    "\n",
    "b = set(a)\n",
    "print(b)"
   ]
  },
  {
   "cell_type": "code",
   "execution_count": 82,
   "metadata": {},
   "outputs": [
    {
     "name": "stdout",
     "output_type": "stream",
     "text": [
      "{('flight',), ('flower',), ('flow',)}\n"
     ]
    }
   ],
   "source": [
    "a = zip([\"flower\",\"flow\",\"flight\"])\n",
    "b = set(a)\n",
    "print(b)\n",
    "\n",
    "for i in a:\n",
    "    print(i)\n",
    "\n",
    "\n"
   ]
  },
  {
   "cell_type": "code",
   "execution_count": 90,
   "metadata": {},
   "outputs": [
    {
     "name": "stdout",
     "output_type": "stream",
     "text": [
      "{'c', 'a', 'b'}\n",
      "c\n",
      "a\n",
      "b\n"
     ]
    }
   ],
   "source": [
    "b = set(\"bbbabac\")\n",
    "print(b)\n",
    "for i in b:\n",
    "    print(i)"
   ]
  },
  {
   "cell_type": "code",
   "execution_count": null,
   "metadata": {},
   "outputs": [],
   "source": []
  }
 ],
 "metadata": {
  "kernelspec": {
   "display_name": "Python 3",
   "language": "python",
   "name": "python3"
  },
  "language_info": {
   "codemirror_mode": {
    "name": "ipython",
    "version": 3
   },
   "file_extension": ".py",
   "mimetype": "text/x-python",
   "name": "python",
   "nbconvert_exporter": "python",
   "pygments_lexer": "ipython3",
   "version": "3.7.3"
  }
 },
 "nbformat": 4,
 "nbformat_minor": 2
}
