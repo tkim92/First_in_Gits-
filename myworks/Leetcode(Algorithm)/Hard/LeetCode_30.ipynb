{
 "cells": [
  {
   "cell_type": "markdown",
   "metadata": {},
   "source": [
    "Leetcode Question 30.\n",
    "Difficulty Level: Hard\n",
    "\n",
    "You are given a string, s, and a list of words, words, that are all of the same length. Find all starting indices of substring(s) in s that is a concatenation of each word in words exactly once and without any intervening characters.\n",
    "\n",
    "Example 1:\n",
    "\n",
    "Input:\n",
    "  s = \"barfoothefoobarman\",\n",
    "\n",
    "  words = [\"foo\",\"bar\"]\n",
    "    \n",
    "Output: [0,9]\n",
    "    \n",
    "Explanation: Substrings starting at index 0 and 9 are \"barfoor\" and \"foobar\" respectively.\n",
    "    \n",
    "The output order does not matter, returning [9,0] is fine too.\n",
    "\n",
    "Example 2:\n",
    "    \n",
    "\n",
    "Input:\n",
    "    \n",
    "  s = \"wordgoodgoodgoodbestword\",\n",
    "\n",
    "  words = [\"word\",\"good\",\"best\",\"word\"]\n",
    "    \n",
    "Output: []\n",
    "    \n",
    "    \n",
    " "
   ]
  },
  {
   "cell_type": "code",
   "execution_count": 187,
   "metadata": {},
   "outputs": [],
   "source": [
    "def findSubstring(s,words):\n",
    "    \n",
    "    words.sort()\n",
    "    \n",
    "    if len(words) == 0 or len(s) == 0:\n",
    "        return []\n",
    "    \n",
    "    substr_len = len(words[0]) * len(words)\n",
    "    init_index = len(words[0])\n",
    "    \n",
    "    i = 0 \n",
    "    indices = []\n",
    "    \n",
    "    while len(s[i:]) >= substr_len:\n",
    "        substr = s[i:i+substr_len]\n",
    "        substr_list = [substr[i*init_index : i*init_index + init_index] for i in range(len(words))]\n",
    "        substr_list.sort()\n",
    "        if substr_list == words:\n",
    "            indices.append(i)\n",
    "        i += 1\n",
    "    \n",
    "    return indices"
   ]
  },
  {
   "cell_type": "code",
   "execution_count": 188,
   "metadata": {},
   "outputs": [
    {
     "name": "stdout",
     "output_type": "stream",
     "text": [
      "[1]\n"
     ]
    }
   ],
   "source": [
    "print(findSubstring(\"ababaab\",[\"ab\",\"ba\",\"ba\"]))\n"
   ]
  },
  {
   "cell_type": "markdown",
   "metadata": {},
   "source": [
    "I did solve this problem.\n",
    "\n",
    "However, the efficiency was not ideal. \n",
    "\n",
    "Let's look at the best answers done by others.\n",
    "\n",
    "And try to learn from it. \n",
    "\n"
   ]
  },
  {
   "cell_type": "code",
   "execution_count": 189,
   "metadata": {},
   "outputs": [],
   "source": [
    "from collections import Counter\n",
    "\n",
    "    \n",
    "def findSubstring(s, words):\n",
    "    \"\"\"\n",
    "    :type s: str\n",
    "    :type words: List[str]\n",
    "    :rtype: List[int]\n",
    "    \"\"\"\n",
    "    if not s or not words:\n",
    "        return []\n",
    "\n",
    "    word_map = Counter(words)\n",
    "    \n",
    "    print(word_map)\n",
    "    print(type(word_map))\n",
    "    \n",
    "    results = []\n",
    "    word_size = len(words[0])\n",
    "    num_word = len(words)\n",
    "    list_size = word_size*num_word\n",
    "    \n",
    "    for i in range(len(s) - list_size + 1):\n",
    "        seen = dict(word_map)\n",
    "        word_used = 0\n",
    "        for j in range(i, i + list_size, word_size):\n",
    "            sub_str = s[j: j + word_size]\n",
    "            if sub_str in seen and seen[sub_str] > 0:\n",
    "                seen[sub_str] -= 1\n",
    "                word_used += 1\n",
    "            else:\n",
    "                break\n",
    "        if word_used == num_word:\n",
    "            results.append(i)\n",
    "    return results"
   ]
  },
  {
   "cell_type": "code",
   "execution_count": 190,
   "metadata": {},
   "outputs": [
    {
     "name": "stdout",
     "output_type": "stream",
     "text": [
      "Counter({'ba': 2, 'ab': 1})\n",
      "<class 'collections.Counter'>\n",
      "[1]\n"
     ]
    }
   ],
   "source": [
    "print(findSubstring(\"ababaab\",[\"ab\",\"ba\",\"ba\"]))"
   ]
  },
  {
   "cell_type": "code",
   "execution_count": 191,
   "metadata": {},
   "outputs": [
    {
     "name": "stdout",
     "output_type": "stream",
     "text": [
      "0\n",
      "2\n",
      "4\n"
     ]
    },
    {
     "data": {
      "text/plain": [
       "'\\nif range is given in 3 arguments,\\nit means..\\n\\nrange([starting],[ending],[increment unit])\\n'"
      ]
     },
     "execution_count": 191,
     "metadata": {},
     "output_type": "execute_result"
    }
   ],
   "source": [
    "for q in range(0,6,2):\n",
    "    print(q)\n",
    "    \n",
    "\"\"\"\n",
    "if range is given in 3 arguments,\n",
    "it means..\n",
    "\n",
    "range([starting],[ending],[increment unit])\n",
    "\"\"\""
   ]
  },
  {
   "cell_type": "code",
   "execution_count": null,
   "metadata": {},
   "outputs": [],
   "source": []
  }
 ],
 "metadata": {
  "kernelspec": {
   "display_name": "Python 3",
   "language": "python",
   "name": "python3"
  },
  "language_info": {
   "codemirror_mode": {
    "name": "ipython",
    "version": 3
   },
   "file_extension": ".py",
   "mimetype": "text/x-python",
   "name": "python",
   "nbconvert_exporter": "python",
   "pygments_lexer": "ipython3",
   "version": "3.7.1"
  }
 },
 "nbformat": 4,
 "nbformat_minor": 2
}
